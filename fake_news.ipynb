{
  "cells": [
    {
      "cell_type": "code",
      "execution_count": null,
      "metadata": {
        "id": "-WyBu9EeFrVH"
      },
      "outputs": [],
      "source": [
        "import pandas as pd\n",
        "import seaborn as sns\n",
        "import matplotlib.pyplot as plt"
      ]
    },
    {
      "cell_type": "code",
      "execution_count": null,
      "metadata": {
        "colab": {
          "base_uri": "https://localhost:8080/",
          "height": 293
        },
        "id": "zbXMMrcUFrVI",
        "outputId": "22e7a7bf-00ce-4986-a692-c3600fb08a6e"
      },
      "outputs": [
        {
          "output_type": "execute_result",
          "data": {
            "text/plain": [
              "                                               title  \\\n",
              "0   Donald Trump Sends Out Embarrassing New Year’...   \n",
              "1   Drunk Bragging Trump Staffer Started Russian ...   \n",
              "2   Sheriff David Clarke Becomes An Internet Joke...   \n",
              "3   Trump Is So Obsessed He Even Has Obama’s Name...   \n",
              "4   Pope Francis Just Called Out Donald Trump Dur...   \n",
              "\n",
              "                                                text subject  \\\n",
              "0  Donald Trump just couldn t wish all Americans ...    News   \n",
              "1  House Intelligence Committee Chairman Devin Nu...    News   \n",
              "2  On Friday, it was revealed that former Milwauk...    News   \n",
              "3  On Christmas day, Donald Trump announced that ...    News   \n",
              "4  Pope Francis used his annual Christmas Day mes...    News   \n",
              "\n",
              "                date  class  \n",
              "0  December 31, 2017      0  \n",
              "1  December 31, 2017      0  \n",
              "2  December 30, 2017      0  \n",
              "3  December 29, 2017      0  \n",
              "4  December 25, 2017      0  "
            ],
            "text/html": [
              "\n",
              "  <div id=\"df-d1935836-1e8d-4ca2-a837-6edd4baeb476\" class=\"colab-df-container\">\n",
              "    <div>\n",
              "<style scoped>\n",
              "    .dataframe tbody tr th:only-of-type {\n",
              "        vertical-align: middle;\n",
              "    }\n",
              "\n",
              "    .dataframe tbody tr th {\n",
              "        vertical-align: top;\n",
              "    }\n",
              "\n",
              "    .dataframe thead th {\n",
              "        text-align: right;\n",
              "    }\n",
              "</style>\n",
              "<table border=\"1\" class=\"dataframe\">\n",
              "  <thead>\n",
              "    <tr style=\"text-align: right;\">\n",
              "      <th></th>\n",
              "      <th>title</th>\n",
              "      <th>text</th>\n",
              "      <th>subject</th>\n",
              "      <th>date</th>\n",
              "      <th>class</th>\n",
              "    </tr>\n",
              "  </thead>\n",
              "  <tbody>\n",
              "    <tr>\n",
              "      <th>0</th>\n",
              "      <td>Donald Trump Sends Out Embarrassing New Year’...</td>\n",
              "      <td>Donald Trump just couldn t wish all Americans ...</td>\n",
              "      <td>News</td>\n",
              "      <td>December 31, 2017</td>\n",
              "      <td>0</td>\n",
              "    </tr>\n",
              "    <tr>\n",
              "      <th>1</th>\n",
              "      <td>Drunk Bragging Trump Staffer Started Russian ...</td>\n",
              "      <td>House Intelligence Committee Chairman Devin Nu...</td>\n",
              "      <td>News</td>\n",
              "      <td>December 31, 2017</td>\n",
              "      <td>0</td>\n",
              "    </tr>\n",
              "    <tr>\n",
              "      <th>2</th>\n",
              "      <td>Sheriff David Clarke Becomes An Internet Joke...</td>\n",
              "      <td>On Friday, it was revealed that former Milwauk...</td>\n",
              "      <td>News</td>\n",
              "      <td>December 30, 2017</td>\n",
              "      <td>0</td>\n",
              "    </tr>\n",
              "    <tr>\n",
              "      <th>3</th>\n",
              "      <td>Trump Is So Obsessed He Even Has Obama’s Name...</td>\n",
              "      <td>On Christmas day, Donald Trump announced that ...</td>\n",
              "      <td>News</td>\n",
              "      <td>December 29, 2017</td>\n",
              "      <td>0</td>\n",
              "    </tr>\n",
              "    <tr>\n",
              "      <th>4</th>\n",
              "      <td>Pope Francis Just Called Out Donald Trump Dur...</td>\n",
              "      <td>Pope Francis used his annual Christmas Day mes...</td>\n",
              "      <td>News</td>\n",
              "      <td>December 25, 2017</td>\n",
              "      <td>0</td>\n",
              "    </tr>\n",
              "  </tbody>\n",
              "</table>\n",
              "</div>\n",
              "    <div class=\"colab-df-buttons\">\n",
              "\n",
              "  <div class=\"colab-df-container\">\n",
              "    <button class=\"colab-df-convert\" onclick=\"convertToInteractive('df-d1935836-1e8d-4ca2-a837-6edd4baeb476')\"\n",
              "            title=\"Convert this dataframe to an interactive table.\"\n",
              "            style=\"display:none;\">\n",
              "\n",
              "  <svg xmlns=\"http://www.w3.org/2000/svg\" height=\"24px\" viewBox=\"0 -960 960 960\">\n",
              "    <path d=\"M120-120v-720h720v720H120Zm60-500h600v-160H180v160Zm220 220h160v-160H400v160Zm0 220h160v-160H400v160ZM180-400h160v-160H180v160Zm440 0h160v-160H620v160ZM180-180h160v-160H180v160Zm440 0h160v-160H620v160Z\"/>\n",
              "  </svg>\n",
              "    </button>\n",
              "\n",
              "  <style>\n",
              "    .colab-df-container {\n",
              "      display:flex;\n",
              "      gap: 12px;\n",
              "    }\n",
              "\n",
              "    .colab-df-convert {\n",
              "      background-color: #E8F0FE;\n",
              "      border: none;\n",
              "      border-radius: 50%;\n",
              "      cursor: pointer;\n",
              "      display: none;\n",
              "      fill: #1967D2;\n",
              "      height: 32px;\n",
              "      padding: 0 0 0 0;\n",
              "      width: 32px;\n",
              "    }\n",
              "\n",
              "    .colab-df-convert:hover {\n",
              "      background-color: #E2EBFA;\n",
              "      box-shadow: 0px 1px 2px rgba(60, 64, 67, 0.3), 0px 1px 3px 1px rgba(60, 64, 67, 0.15);\n",
              "      fill: #174EA6;\n",
              "    }\n",
              "\n",
              "    .colab-df-buttons div {\n",
              "      margin-bottom: 4px;\n",
              "    }\n",
              "\n",
              "    [theme=dark] .colab-df-convert {\n",
              "      background-color: #3B4455;\n",
              "      fill: #D2E3FC;\n",
              "    }\n",
              "\n",
              "    [theme=dark] .colab-df-convert:hover {\n",
              "      background-color: #434B5C;\n",
              "      box-shadow: 0px 1px 3px 1px rgba(0, 0, 0, 0.15);\n",
              "      filter: drop-shadow(0px 1px 2px rgba(0, 0, 0, 0.3));\n",
              "      fill: #FFFFFF;\n",
              "    }\n",
              "  </style>\n",
              "\n",
              "    <script>\n",
              "      const buttonEl =\n",
              "        document.querySelector('#df-d1935836-1e8d-4ca2-a837-6edd4baeb476 button.colab-df-convert');\n",
              "      buttonEl.style.display =\n",
              "        google.colab.kernel.accessAllowed ? 'block' : 'none';\n",
              "\n",
              "      async function convertToInteractive(key) {\n",
              "        const element = document.querySelector('#df-d1935836-1e8d-4ca2-a837-6edd4baeb476');\n",
              "        const dataTable =\n",
              "          await google.colab.kernel.invokeFunction('convertToInteractive',\n",
              "                                                    [key], {});\n",
              "        if (!dataTable) return;\n",
              "\n",
              "        const docLinkHtml = 'Like what you see? Visit the ' +\n",
              "          '<a target=\"_blank\" href=https://colab.research.google.com/notebooks/data_table.ipynb>data table notebook</a>'\n",
              "          + ' to learn more about interactive tables.';\n",
              "        element.innerHTML = '';\n",
              "        dataTable['output_type'] = 'display_data';\n",
              "        await google.colab.output.renderOutput(dataTable, element);\n",
              "        const docLink = document.createElement('div');\n",
              "        docLink.innerHTML = docLinkHtml;\n",
              "        element.appendChild(docLink);\n",
              "      }\n",
              "    </script>\n",
              "  </div>\n",
              "\n",
              "\n",
              "<div id=\"df-4b14da02-936f-4264-8118-045261c9ce8e\">\n",
              "  <button class=\"colab-df-quickchart\" onclick=\"quickchart('df-4b14da02-936f-4264-8118-045261c9ce8e')\"\n",
              "            title=\"Suggest charts.\"\n",
              "            style=\"display:none;\">\n",
              "\n",
              "<svg xmlns=\"http://www.w3.org/2000/svg\" height=\"24px\"viewBox=\"0 0 24 24\"\n",
              "     width=\"24px\">\n",
              "    <g>\n",
              "        <path d=\"M19 3H5c-1.1 0-2 .9-2 2v14c0 1.1.9 2 2 2h14c1.1 0 2-.9 2-2V5c0-1.1-.9-2-2-2zM9 17H7v-7h2v7zm4 0h-2V7h2v10zm4 0h-2v-4h2v4z\"/>\n",
              "    </g>\n",
              "</svg>\n",
              "  </button>\n",
              "\n",
              "<style>\n",
              "  .colab-df-quickchart {\n",
              "      --bg-color: #E8F0FE;\n",
              "      --fill-color: #1967D2;\n",
              "      --hover-bg-color: #E2EBFA;\n",
              "      --hover-fill-color: #174EA6;\n",
              "      --disabled-fill-color: #AAA;\n",
              "      --disabled-bg-color: #DDD;\n",
              "  }\n",
              "\n",
              "  [theme=dark] .colab-df-quickchart {\n",
              "      --bg-color: #3B4455;\n",
              "      --fill-color: #D2E3FC;\n",
              "      --hover-bg-color: #434B5C;\n",
              "      --hover-fill-color: #FFFFFF;\n",
              "      --disabled-bg-color: #3B4455;\n",
              "      --disabled-fill-color: #666;\n",
              "  }\n",
              "\n",
              "  .colab-df-quickchart {\n",
              "    background-color: var(--bg-color);\n",
              "    border: none;\n",
              "    border-radius: 50%;\n",
              "    cursor: pointer;\n",
              "    display: none;\n",
              "    fill: var(--fill-color);\n",
              "    height: 32px;\n",
              "    padding: 0;\n",
              "    width: 32px;\n",
              "  }\n",
              "\n",
              "  .colab-df-quickchart:hover {\n",
              "    background-color: var(--hover-bg-color);\n",
              "    box-shadow: 0 1px 2px rgba(60, 64, 67, 0.3), 0 1px 3px 1px rgba(60, 64, 67, 0.15);\n",
              "    fill: var(--button-hover-fill-color);\n",
              "  }\n",
              "\n",
              "  .colab-df-quickchart-complete:disabled,\n",
              "  .colab-df-quickchart-complete:disabled:hover {\n",
              "    background-color: var(--disabled-bg-color);\n",
              "    fill: var(--disabled-fill-color);\n",
              "    box-shadow: none;\n",
              "  }\n",
              "\n",
              "  .colab-df-spinner {\n",
              "    border: 2px solid var(--fill-color);\n",
              "    border-color: transparent;\n",
              "    border-bottom-color: var(--fill-color);\n",
              "    animation:\n",
              "      spin 1s steps(1) infinite;\n",
              "  }\n",
              "\n",
              "  @keyframes spin {\n",
              "    0% {\n",
              "      border-color: transparent;\n",
              "      border-bottom-color: var(--fill-color);\n",
              "      border-left-color: var(--fill-color);\n",
              "    }\n",
              "    20% {\n",
              "      border-color: transparent;\n",
              "      border-left-color: var(--fill-color);\n",
              "      border-top-color: var(--fill-color);\n",
              "    }\n",
              "    30% {\n",
              "      border-color: transparent;\n",
              "      border-left-color: var(--fill-color);\n",
              "      border-top-color: var(--fill-color);\n",
              "      border-right-color: var(--fill-color);\n",
              "    }\n",
              "    40% {\n",
              "      border-color: transparent;\n",
              "      border-right-color: var(--fill-color);\n",
              "      border-top-color: var(--fill-color);\n",
              "    }\n",
              "    60% {\n",
              "      border-color: transparent;\n",
              "      border-right-color: var(--fill-color);\n",
              "    }\n",
              "    80% {\n",
              "      border-color: transparent;\n",
              "      border-right-color: var(--fill-color);\n",
              "      border-bottom-color: var(--fill-color);\n",
              "    }\n",
              "    90% {\n",
              "      border-color: transparent;\n",
              "      border-bottom-color: var(--fill-color);\n",
              "    }\n",
              "  }\n",
              "</style>\n",
              "\n",
              "  <script>\n",
              "    async function quickchart(key) {\n",
              "      const quickchartButtonEl =\n",
              "        document.querySelector('#' + key + ' button');\n",
              "      quickchartButtonEl.disabled = true;  // To prevent multiple clicks.\n",
              "      quickchartButtonEl.classList.add('colab-df-spinner');\n",
              "      try {\n",
              "        const charts = await google.colab.kernel.invokeFunction(\n",
              "            'suggestCharts', [key], {});\n",
              "      } catch (error) {\n",
              "        console.error('Error during call to suggestCharts:', error);\n",
              "      }\n",
              "      quickchartButtonEl.classList.remove('colab-df-spinner');\n",
              "      quickchartButtonEl.classList.add('colab-df-quickchart-complete');\n",
              "    }\n",
              "    (() => {\n",
              "      let quickchartButtonEl =\n",
              "        document.querySelector('#df-4b14da02-936f-4264-8118-045261c9ce8e button');\n",
              "      quickchartButtonEl.style.display =\n",
              "        google.colab.kernel.accessAllowed ? 'block' : 'none';\n",
              "    })();\n",
              "  </script>\n",
              "</div>\n",
              "    </div>\n",
              "  </div>\n"
            ]
          },
          "metadata": {},
          "execution_count": 4
        }
      ],
      "source": [
        "dataset = pd.read_csv('News.csv',index_col=0)\n",
        "dataset.head()"
      ]
    },
    {
      "cell_type": "code",
      "execution_count": null,
      "metadata": {
        "id": "i_OkpLT-FrVJ"
      },
      "outputs": [],
      "source": [
        "dataset= dataset.drop([\"title\", \"subject\",\"date\"], axis = 1)"
      ]
    },
    {
      "cell_type": "code",
      "execution_count": null,
      "metadata": {
        "colab": {
          "base_uri": "https://localhost:8080/",
          "height": 206
        },
        "id": "xL7mea5bFrVJ",
        "outputId": "ad6daee2-34ed-4004-ce0e-404d24b6b799"
      },
      "outputs": [
        {
          "output_type": "execute_result",
          "data": {
            "text/plain": [
              "                                                text  class\n",
              "0  Donald Trump just couldn t wish all Americans ...      0\n",
              "1  House Intelligence Committee Chairman Devin Nu...      0\n",
              "2  On Friday, it was revealed that former Milwauk...      0\n",
              "3  On Christmas day, Donald Trump announced that ...      0\n",
              "4  Pope Francis used his annual Christmas Day mes...      0"
            ],
            "text/html": [
              "\n",
              "  <div id=\"df-1dc4c577-0dd1-460b-8e11-b2425bbeb522\" class=\"colab-df-container\">\n",
              "    <div>\n",
              "<style scoped>\n",
              "    .dataframe tbody tr th:only-of-type {\n",
              "        vertical-align: middle;\n",
              "    }\n",
              "\n",
              "    .dataframe tbody tr th {\n",
              "        vertical-align: top;\n",
              "    }\n",
              "\n",
              "    .dataframe thead th {\n",
              "        text-align: right;\n",
              "    }\n",
              "</style>\n",
              "<table border=\"1\" class=\"dataframe\">\n",
              "  <thead>\n",
              "    <tr style=\"text-align: right;\">\n",
              "      <th></th>\n",
              "      <th>text</th>\n",
              "      <th>class</th>\n",
              "    </tr>\n",
              "  </thead>\n",
              "  <tbody>\n",
              "    <tr>\n",
              "      <th>0</th>\n",
              "      <td>Donald Trump just couldn t wish all Americans ...</td>\n",
              "      <td>0</td>\n",
              "    </tr>\n",
              "    <tr>\n",
              "      <th>1</th>\n",
              "      <td>House Intelligence Committee Chairman Devin Nu...</td>\n",
              "      <td>0</td>\n",
              "    </tr>\n",
              "    <tr>\n",
              "      <th>2</th>\n",
              "      <td>On Friday, it was revealed that former Milwauk...</td>\n",
              "      <td>0</td>\n",
              "    </tr>\n",
              "    <tr>\n",
              "      <th>3</th>\n",
              "      <td>On Christmas day, Donald Trump announced that ...</td>\n",
              "      <td>0</td>\n",
              "    </tr>\n",
              "    <tr>\n",
              "      <th>4</th>\n",
              "      <td>Pope Francis used his annual Christmas Day mes...</td>\n",
              "      <td>0</td>\n",
              "    </tr>\n",
              "  </tbody>\n",
              "</table>\n",
              "</div>\n",
              "    <div class=\"colab-df-buttons\">\n",
              "\n",
              "  <div class=\"colab-df-container\">\n",
              "    <button class=\"colab-df-convert\" onclick=\"convertToInteractive('df-1dc4c577-0dd1-460b-8e11-b2425bbeb522')\"\n",
              "            title=\"Convert this dataframe to an interactive table.\"\n",
              "            style=\"display:none;\">\n",
              "\n",
              "  <svg xmlns=\"http://www.w3.org/2000/svg\" height=\"24px\" viewBox=\"0 -960 960 960\">\n",
              "    <path d=\"M120-120v-720h720v720H120Zm60-500h600v-160H180v160Zm220 220h160v-160H400v160Zm0 220h160v-160H400v160ZM180-400h160v-160H180v160Zm440 0h160v-160H620v160ZM180-180h160v-160H180v160Zm440 0h160v-160H620v160Z\"/>\n",
              "  </svg>\n",
              "    </button>\n",
              "\n",
              "  <style>\n",
              "    .colab-df-container {\n",
              "      display:flex;\n",
              "      gap: 12px;\n",
              "    }\n",
              "\n",
              "    .colab-df-convert {\n",
              "      background-color: #E8F0FE;\n",
              "      border: none;\n",
              "      border-radius: 50%;\n",
              "      cursor: pointer;\n",
              "      display: none;\n",
              "      fill: #1967D2;\n",
              "      height: 32px;\n",
              "      padding: 0 0 0 0;\n",
              "      width: 32px;\n",
              "    }\n",
              "\n",
              "    .colab-df-convert:hover {\n",
              "      background-color: #E2EBFA;\n",
              "      box-shadow: 0px 1px 2px rgba(60, 64, 67, 0.3), 0px 1px 3px 1px rgba(60, 64, 67, 0.15);\n",
              "      fill: #174EA6;\n",
              "    }\n",
              "\n",
              "    .colab-df-buttons div {\n",
              "      margin-bottom: 4px;\n",
              "    }\n",
              "\n",
              "    [theme=dark] .colab-df-convert {\n",
              "      background-color: #3B4455;\n",
              "      fill: #D2E3FC;\n",
              "    }\n",
              "\n",
              "    [theme=dark] .colab-df-convert:hover {\n",
              "      background-color: #434B5C;\n",
              "      box-shadow: 0px 1px 3px 1px rgba(0, 0, 0, 0.15);\n",
              "      filter: drop-shadow(0px 1px 2px rgba(0, 0, 0, 0.3));\n",
              "      fill: #FFFFFF;\n",
              "    }\n",
              "  </style>\n",
              "\n",
              "    <script>\n",
              "      const buttonEl =\n",
              "        document.querySelector('#df-1dc4c577-0dd1-460b-8e11-b2425bbeb522 button.colab-df-convert');\n",
              "      buttonEl.style.display =\n",
              "        google.colab.kernel.accessAllowed ? 'block' : 'none';\n",
              "\n",
              "      async function convertToInteractive(key) {\n",
              "        const element = document.querySelector('#df-1dc4c577-0dd1-460b-8e11-b2425bbeb522');\n",
              "        const dataTable =\n",
              "          await google.colab.kernel.invokeFunction('convertToInteractive',\n",
              "                                                    [key], {});\n",
              "        if (!dataTable) return;\n",
              "\n",
              "        const docLinkHtml = 'Like what you see? Visit the ' +\n",
              "          '<a target=\"_blank\" href=https://colab.research.google.com/notebooks/data_table.ipynb>data table notebook</a>'\n",
              "          + ' to learn more about interactive tables.';\n",
              "        element.innerHTML = '';\n",
              "        dataTable['output_type'] = 'display_data';\n",
              "        await google.colab.output.renderOutput(dataTable, element);\n",
              "        const docLink = document.createElement('div');\n",
              "        docLink.innerHTML = docLinkHtml;\n",
              "        element.appendChild(docLink);\n",
              "      }\n",
              "    </script>\n",
              "  </div>\n",
              "\n",
              "\n",
              "<div id=\"df-dde38d67-b2e6-4d30-8e05-90082e77639d\">\n",
              "  <button class=\"colab-df-quickchart\" onclick=\"quickchart('df-dde38d67-b2e6-4d30-8e05-90082e77639d')\"\n",
              "            title=\"Suggest charts.\"\n",
              "            style=\"display:none;\">\n",
              "\n",
              "<svg xmlns=\"http://www.w3.org/2000/svg\" height=\"24px\"viewBox=\"0 0 24 24\"\n",
              "     width=\"24px\">\n",
              "    <g>\n",
              "        <path d=\"M19 3H5c-1.1 0-2 .9-2 2v14c0 1.1.9 2 2 2h14c1.1 0 2-.9 2-2V5c0-1.1-.9-2-2-2zM9 17H7v-7h2v7zm4 0h-2V7h2v10zm4 0h-2v-4h2v4z\"/>\n",
              "    </g>\n",
              "</svg>\n",
              "  </button>\n",
              "\n",
              "<style>\n",
              "  .colab-df-quickchart {\n",
              "      --bg-color: #E8F0FE;\n",
              "      --fill-color: #1967D2;\n",
              "      --hover-bg-color: #E2EBFA;\n",
              "      --hover-fill-color: #174EA6;\n",
              "      --disabled-fill-color: #AAA;\n",
              "      --disabled-bg-color: #DDD;\n",
              "  }\n",
              "\n",
              "  [theme=dark] .colab-df-quickchart {\n",
              "      --bg-color: #3B4455;\n",
              "      --fill-color: #D2E3FC;\n",
              "      --hover-bg-color: #434B5C;\n",
              "      --hover-fill-color: #FFFFFF;\n",
              "      --disabled-bg-color: #3B4455;\n",
              "      --disabled-fill-color: #666;\n",
              "  }\n",
              "\n",
              "  .colab-df-quickchart {\n",
              "    background-color: var(--bg-color);\n",
              "    border: none;\n",
              "    border-radius: 50%;\n",
              "    cursor: pointer;\n",
              "    display: none;\n",
              "    fill: var(--fill-color);\n",
              "    height: 32px;\n",
              "    padding: 0;\n",
              "    width: 32px;\n",
              "  }\n",
              "\n",
              "  .colab-df-quickchart:hover {\n",
              "    background-color: var(--hover-bg-color);\n",
              "    box-shadow: 0 1px 2px rgba(60, 64, 67, 0.3), 0 1px 3px 1px rgba(60, 64, 67, 0.15);\n",
              "    fill: var(--button-hover-fill-color);\n",
              "  }\n",
              "\n",
              "  .colab-df-quickchart-complete:disabled,\n",
              "  .colab-df-quickchart-complete:disabled:hover {\n",
              "    background-color: var(--disabled-bg-color);\n",
              "    fill: var(--disabled-fill-color);\n",
              "    box-shadow: none;\n",
              "  }\n",
              "\n",
              "  .colab-df-spinner {\n",
              "    border: 2px solid var(--fill-color);\n",
              "    border-color: transparent;\n",
              "    border-bottom-color: var(--fill-color);\n",
              "    animation:\n",
              "      spin 1s steps(1) infinite;\n",
              "  }\n",
              "\n",
              "  @keyframes spin {\n",
              "    0% {\n",
              "      border-color: transparent;\n",
              "      border-bottom-color: var(--fill-color);\n",
              "      border-left-color: var(--fill-color);\n",
              "    }\n",
              "    20% {\n",
              "      border-color: transparent;\n",
              "      border-left-color: var(--fill-color);\n",
              "      border-top-color: var(--fill-color);\n",
              "    }\n",
              "    30% {\n",
              "      border-color: transparent;\n",
              "      border-left-color: var(--fill-color);\n",
              "      border-top-color: var(--fill-color);\n",
              "      border-right-color: var(--fill-color);\n",
              "    }\n",
              "    40% {\n",
              "      border-color: transparent;\n",
              "      border-right-color: var(--fill-color);\n",
              "      border-top-color: var(--fill-color);\n",
              "    }\n",
              "    60% {\n",
              "      border-color: transparent;\n",
              "      border-right-color: var(--fill-color);\n",
              "    }\n",
              "    80% {\n",
              "      border-color: transparent;\n",
              "      border-right-color: var(--fill-color);\n",
              "      border-bottom-color: var(--fill-color);\n",
              "    }\n",
              "    90% {\n",
              "      border-color: transparent;\n",
              "      border-bottom-color: var(--fill-color);\n",
              "    }\n",
              "  }\n",
              "</style>\n",
              "\n",
              "  <script>\n",
              "    async function quickchart(key) {\n",
              "      const quickchartButtonEl =\n",
              "        document.querySelector('#' + key + ' button');\n",
              "      quickchartButtonEl.disabled = true;  // To prevent multiple clicks.\n",
              "      quickchartButtonEl.classList.add('colab-df-spinner');\n",
              "      try {\n",
              "        const charts = await google.colab.kernel.invokeFunction(\n",
              "            'suggestCharts', [key], {});\n",
              "      } catch (error) {\n",
              "        console.error('Error during call to suggestCharts:', error);\n",
              "      }\n",
              "      quickchartButtonEl.classList.remove('colab-df-spinner');\n",
              "      quickchartButtonEl.classList.add('colab-df-quickchart-complete');\n",
              "    }\n",
              "    (() => {\n",
              "      let quickchartButtonEl =\n",
              "        document.querySelector('#df-dde38d67-b2e6-4d30-8e05-90082e77639d button');\n",
              "      quickchartButtonEl.style.display =\n",
              "        google.colab.kernel.accessAllowed ? 'block' : 'none';\n",
              "    })();\n",
              "  </script>\n",
              "</div>\n",
              "    </div>\n",
              "  </div>\n"
            ]
          },
          "metadata": {},
          "execution_count": 6
        }
      ],
      "source": [
        "dataset.head()"
      ]
    },
    {
      "cell_type": "markdown",
      "metadata": {
        "id": "Kvfm-5FlFrVJ"
      },
      "source": [
        "Remove null values"
      ]
    },
    {
      "cell_type": "code",
      "execution_count": null,
      "metadata": {
        "colab": {
          "base_uri": "https://localhost:8080/"
        },
        "id": "vIezWyQeFrVK",
        "outputId": "520c65a3-c198-464b-906e-e912283feb05"
      },
      "outputs": [
        {
          "output_type": "execute_result",
          "data": {
            "text/plain": [
              "title       0\n",
              "text        0\n",
              "subject    21\n",
              "date       21\n",
              "class       0\n",
              "dtype: int64"
            ]
          },
          "metadata": {},
          "execution_count": 5
        }
      ],
      "source": [
        "dataset.isnull().sum()"
      ]
    },
    {
      "cell_type": "markdown",
      "metadata": {
        "id": "be2vvNFCFrVK"
      },
      "source": [
        "Randomize datapoints"
      ]
    },
    {
      "cell_type": "code",
      "execution_count": null,
      "metadata": {
        "id": "dSSa23tQFrVK"
      },
      "outputs": [],
      "source": [
        "dataset = dataset.sample(frac=1)\n",
        "dataset.reset_index(inplace=True)\n",
        "dataset.drop([\"index\"], axis=1, inplace=True)"
      ]
    },
    {
      "cell_type": "markdown",
      "metadata": {
        "id": "iFuQriqxFrVK"
      },
      "source": [
        "Pre Processing"
      ]
    },
    {
      "cell_type": "code",
      "execution_count": null,
      "metadata": {
        "colab": {
          "base_uri": "https://localhost:8080/"
        },
        "id": "TJYDxFErFrVL",
        "outputId": "fbb9063f-3b21-4e53-c43a-9de8b39d7c14"
      },
      "outputs": [
        {
          "output_type": "stream",
          "name": "stderr",
          "text": [
            "[nltk_data] Downloading package punkt to /root/nltk_data...\n",
            "[nltk_data]   Unzipping tokenizers/punkt.zip.\n",
            "[nltk_data] Downloading package stopwords to /root/nltk_data...\n",
            "[nltk_data]   Unzipping corpora/stopwords.zip.\n"
          ]
        }
      ],
      "source": [
        "from tqdm import tqdm\n",
        "import re\n",
        "import nltk\n",
        "nltk.download('punkt')\n",
        "nltk.download('stopwords')\n",
        "from nltk.corpus import stopwords\n",
        "from nltk.tokenize import word_tokenize\n",
        "from nltk.stem.porter import PorterStemmer\n"
      ]
    },
    {
      "cell_type": "code",
      "execution_count": null,
      "metadata": {
        "id": "Xm-dGRTNFrVL"
      },
      "outputs": [],
      "source": [
        "def preprocess_text(text_data):\n",
        "\tpreprocessed_text = []\n",
        "\n",
        "\tfor sentence in tqdm(text_data):\n",
        "\t\tsentence = re.sub(r'[^\\w\\s]', '', sentence)\n",
        "\t\tpreprocessed_text.append(' '.join(token.lower()\n",
        "\t\t\t\t\t\t\t\tfor token in str(sentence).split()\n",
        "\t\t\t\t\t\t\t\tif token not in stopwords.words('english')))\n",
        "\n",
        "\treturn preprocessed_text"
      ]
    },
    {
      "cell_type": "markdown",
      "metadata": {
        "id": "N1fp4D4WFrVL"
      },
      "source": [
        "Logistic Regression"
      ]
    },
    {
      "cell_type": "code",
      "execution_count": null,
      "metadata": {
        "colab": {
          "base_uri": "https://localhost:8080/"
        },
        "id": "n5oOeS8uFrVL",
        "outputId": "d84d01ef-6c8a-4ef6-d2e6-ab19b1f1f95f"
      },
      "outputs": [
        {
          "output_type": "stream",
          "name": "stdout",
          "text": [
            "Model Accuracy: 0.9871994657168299\n"
          ]
        }
      ],
      "source": [
        "from sklearn.feature_extraction.text import TfidfVectorizer\n",
        "from sklearn.model_selection import train_test_split\n",
        "from sklearn.linear_model import LogisticRegression\n",
        "from sklearn.metrics import accuracy_score\n",
        "\n",
        "# Initializing and fittng the TF-IDF vectorizer\n",
        "vectorizer = TfidfVectorizer()\n",
        "X = vectorizer.fit_transform(dataset['text'])\n",
        "y = dataset['class']\n",
        "\n",
        "#Splitting into train and test data\n",
        "X_train, X_test, y_train, y_test = train_test_split(X, y, test_size=0.2, random_state=42)\n",
        "\n",
        "#fitting into regression model\n",
        "model = LogisticRegression()\n",
        "model.fit(X_train, y_train)\n",
        "\n",
        "# Making predictions\n",
        "y_pred = model.predict(X_test)\n",
        "\n",
        "#Accuracy\n",
        "accuracy_LR = accuracy_score(y_test, y_pred)\n",
        "\n",
        "print(f'Model Accuracy: {accuracy_LR}')"
      ]
    },
    {
      "cell_type": "code",
      "execution_count": null,
      "metadata": {
        "colab": {
          "base_uri": "https://localhost:8080/",
          "height": 487
        },
        "id": "mVwjQ7oMFrVL",
        "outputId": "01808d34-39e5-45c3-957d-2dc5e7ee9e7c"
      },
      "outputs": [
        {
          "output_type": "display_data",
          "data": {
            "text/plain": [
              "<Figure size 700x500 with 2 Axes>"
            ],
            "image/png": "[encoded data removed]"
          },
          "metadata": {}
        }
      ],
      "source": [
        "# Confusion Matrix\n",
        "from sklearn.metrics import confusion_matrix\n",
        "import seaborn as sns\n",
        "\n",
        "# Generating confusion matrix\n",
        "cm_LR = confusion_matrix(y_test, y_pred)\n",
        "\n",
        "# Visualizing the confusion matrix using Seaborn's heatmap\n",
        "plt.figure(figsize=(7,5))\n",
        "sns.heatmap(cm_LR, annot=True, fmt='d', cmap='Blues')\n",
        "plt.xlabel('Predicted')\n",
        "plt.ylabel('Actual')\n",
        "plt.title('Confusion Matrix for Logistic Regression')\n",
        "plt.show()"
      ]
    },
    {
      "cell_type": "markdown",
      "metadata": {
        "id": "a6jYN-NJFrVL"
      },
      "source": [
        "CNN"
      ]
    },
    {
      "cell_type": "code",
      "execution_count": null,
      "metadata": {
        "colab": {
          "base_uri": "https://localhost:8080/"
        },
        "id": "eK_SWx0vFrVL",
        "outputId": "a54da481-5111-4843-cd20-aeea76046227"
      },
      "outputs": [
        {
          "output_type": "stream",
          "name": "stdout",
          "text": [
            "Epoch 1/10\n",
            "1123/1123 [==============================] - 148s 122ms/step - loss: 0.0274 - accuracy: 0.9917 - val_loss: 0.0091 - val_accuracy: 0.9979\n",
            "Epoch 2/10\n",
            "1123/1123 [==============================] - 49s 43ms/step - loss: 0.0047 - accuracy: 0.9990 - val_loss: 0.0023 - val_accuracy: 0.9996\n",
            "Epoch 3/10\n",
            "1123/1123 [==============================] - 31s 28ms/step - loss: 0.0031 - accuracy: 0.9991 - val_loss: 0.0049 - val_accuracy: 0.9994\n",
            "Epoch 4/10\n",
            "1123/1123 [==============================] - 26s 23ms/step - loss: 0.0022 - accuracy: 0.9996 - val_loss: 0.0037 - val_accuracy: 0.9994\n",
            "Epoch 5/10\n",
            "1123/1123 [==============================] - 25s 23ms/step - loss: 0.0013 - accuracy: 0.9996 - val_loss: 0.0053 - val_accuracy: 0.9993\n",
            "Epoch 6/10\n",
            "1123/1123 [==============================] - 21s 19ms/step - loss: 6.7678e-04 - accuracy: 0.9999 - val_loss: 0.0070 - val_accuracy: 0.9993\n",
            "Epoch 7/10\n",
            "1123/1123 [==============================] - 22s 19ms/step - loss: 3.0603e-04 - accuracy: 1.0000 - val_loss: 0.0084 - val_accuracy: 0.9993\n",
            "Epoch 8/10\n",
            "1123/1123 [==============================] - 21s 18ms/step - loss: 3.4321e-04 - accuracy: 1.0000 - val_loss: 0.0098 - val_accuracy: 0.9993\n",
            "Epoch 9/10\n",
            "1123/1123 [==============================] - 20s 18ms/step - loss: 0.0032 - accuracy: 0.9998 - val_loss: 0.0186 - val_accuracy: 0.9992\n",
            "Epoch 10/10\n",
            "1123/1123 [==============================] - 20s 18ms/step - loss: 0.0048 - accuracy: 0.9989 - val_loss: 0.0069 - val_accuracy: 0.9992\n",
            "281/281 [==============================] - 1s 4ms/step\n",
            "Model Accuracy: 0.9992208370436332\n"
          ]
        }
      ],
      "source": [
        "from keras.preprocessing.text import Tokenizer\n",
        "from keras.preprocessing.sequence import pad_sequences\n",
        "from keras.models import Sequential\n",
        "from keras.layers import Dense, Embedding, GlobalMaxPooling1D, Conv1D\n",
        "from keras.optimizers import Adam\n",
        "from sklearn.metrics import accuracy_score\n",
        "\n",
        "# Initializing and fitting the tokenizer\n",
        "tokenizer = Tokenizer(num_words=5000) #due to error in accessing large indices of the embedding matrix, the no of words has been capped to 5000\n",
        "tokenizer.fit_on_texts(dataset['text'])\n",
        "\n",
        "# Using the tokenizer to transform the text messages in the dataset\n",
        "sequences = tokenizer.texts_to_sequences(dataset['text'])\n",
        "\n",
        "# Padding sequences to the same length\n",
        "padded_sequences = pad_sequences(sequences)\n",
        "\n",
        "#Splitting the data into train and test sets\n",
        "X_train, X_test, y_train, y_test = train_test_split(padded_sequences, dataset['class'], test_size=0.2, random_state=42)\n",
        "\n",
        "max_sequence_length = padded_sequences.shape[1]\n",
        "\n",
        "model = Sequential([\n",
        "    Embedding(input_dim=5000, output_dim=50, input_length=max_sequence_length),\n",
        "    Conv1D(filters=50, kernel_size=5, activation='relu'),\n",
        "    GlobalMaxPooling1D(),\n",
        "    Dense(units=10, activation='relu'),\n",
        "    Dense(units=1, activation='sigmoid')\n",
        "])\n",
        "\n",
        "# Splitting the data into train and test sets\n",
        "X_train, X_test, y_train, y_test = train_test_split(padded_sequences, dataset['class'], test_size=0.2, random_state=42)\n",
        "\n",
        "# Compiling the model\n",
        "model.compile(optimizer=Adam(0.01), loss='binary_crossentropy', metrics=['accuracy'])\n",
        "\n",
        "# Training the model\n",
        "model.fit(X_train, y_train, epochs=10, batch_size=32, validation_data=(X_test, y_test))\n",
        "\n",
        "# Making predictions\n",
        "y_pred = (model.predict(X_test) > 0.5).astype(\"int32\")\n",
        "\n",
        "# Accuracy\n",
        "accuracy_CNN = accuracy_score(y_test, y_pred)\n",
        "\n",
        "print(f'Model Accuracy: {accuracy_CNN}')"
      ]
    },
    {
      "cell_type": "code",
      "execution_count": null,
      "metadata": {
        "colab": {
          "base_uri": "https://localhost:8080/",
          "height": 504
        },
        "id": "CU4sTnl2FrVM",
        "outputId": "26f94241-6f28-43fc-8a0b-da00994282fc"
      },
      "outputs": [
        {
          "output_type": "stream",
          "name": "stdout",
          "text": [
            "281/281 [==============================] - 1s 4ms/step\n"
          ]
        },
        {
          "output_type": "display_data",
          "data": {
            "text/plain": [
              "<Figure size 700x500 with 2 Axes>"
            ],
            "image/png": "[encoded data removed]"
          },
          "metadata": {}
        }
      ],
      "source": [
        "# Confusion Matrix\n",
        "# Making predictions with the CNN model\n",
        "y_pred_CNN = (model.predict(X_test) > 0.5).astype(\"int32\")\n",
        "\n",
        "cm_CNN = confusion_matrix(y_test, y_pred_CNN)\n",
        "\n",
        "plt.figure(figsize=(7,5))\n",
        "sns.heatmap(cm_CNN, annot=True, fmt='d', cmap='Blues')\n",
        "plt.xlabel('Predicted')\n",
        "plt.ylabel('Actual')\n",
        "plt.title('Confusion Matrix for CNN')\n",
        "plt.show()"
      ]
    },
    {
      "cell_type": "markdown",
      "metadata": {
        "id": "ciE9YYOOFrVM"
      },
      "source": [
        "RNN"
      ]
    },
    {
      "cell_type": "code",
      "execution_count": null,
      "metadata": {
        "colab": {
          "base_uri": "https://localhost:8080/"
        },
        "id": "3CdEf2N9FrVM",
        "outputId": "5442843a-c2e5-4fa4-a7d9-42854e315c79"
      },
      "outputs": [
        {
          "output_type": "stream",
          "name": "stdout",
          "text": [
            "Epoch 1/10\n",
            "1123/1123 [==============================] - 282s 247ms/step - loss: 0.0952 - accuracy: 0.9642 - val_loss: 0.0055 - val_accuracy: 0.9986\n",
            "Epoch 2/10\n",
            "1123/1123 [==============================] - 185s 165ms/step - loss: 0.0046 - accuracy: 0.9988 - val_loss: 0.0051 - val_accuracy: 0.9989\n",
            "Epoch 3/10\n",
            "1123/1123 [==============================] - 174s 155ms/step - loss: 0.0042 - accuracy: 0.9989 - val_loss: 0.0133 - val_accuracy: 0.9961\n",
            "Epoch 4/10\n",
            "1123/1123 [==============================] - 173s 154ms/step - loss: 0.0020 - accuracy: 0.9994 - val_loss: 0.0102 - val_accuracy: 0.9982\n",
            "Epoch 5/10\n",
            "1123/1123 [==============================] - 170s 152ms/step - loss: 0.0032 - accuracy: 0.9992 - val_loss: 0.0047 - val_accuracy: 0.9990\n",
            "Epoch 6/10\n",
            "1123/1123 [==============================] - 165s 147ms/step - loss: 0.0076 - accuracy: 0.9977 - val_loss: 0.0080 - val_accuracy: 0.9978\n",
            "Epoch 7/10\n",
            "1123/1123 [==============================] - 165s 147ms/step - loss: 0.0053 - accuracy: 0.9985 - val_loss: 0.0036 - val_accuracy: 0.9993\n",
            "Epoch 8/10\n",
            "1123/1123 [==============================] - 167s 148ms/step - loss: 0.0022 - accuracy: 0.9993 - val_loss: 0.0181 - val_accuracy: 0.9963\n",
            "Epoch 9/10\n",
            "1123/1123 [==============================] - 159s 142ms/step - loss: 0.0048 - accuracy: 0.9986 - val_loss: 0.0035 - val_accuracy: 0.9992\n",
            "Epoch 10/10\n",
            "1123/1123 [==============================] - 164s 146ms/step - loss: 0.0040 - accuracy: 0.9991 - val_loss: 0.0073 - val_accuracy: 0.9981\n",
            "281/281 [==============================] - 17s 60ms/step\n",
            "Model Accuracy: 0.9981077471059662\n"
          ]
        }
      ],
      "source": [
        "from keras.layers import Dense, Embedding, LSTM\n",
        "\n",
        "model = Sequential([\n",
        "    Embedding(input_dim=5000, output_dim=50, input_length=padded_sequences.shape[1]),\n",
        "    LSTM(50),\n",
        "    Dense(units=10, activation='relu'),\n",
        "    Dense(units=1, activation='sigmoid')\n",
        "])\n",
        "\n",
        "# Compiling the model\n",
        "model.compile(optimizer=Adam(0.01), loss='binary_crossentropy', metrics=['accuracy'])\n",
        "\n",
        "# Training the model\n",
        "model.fit(X_train, y_train, epochs=10, batch_size=32, validation_data=(X_test, y_test))\n",
        "\n",
        "# Making predictions\n",
        "y_pred = (model.predict(X_test) > 0.5).astype(\"int32\")\n",
        "\n",
        "# Accuracy\n",
        "accuracy_RNN = accuracy_score(y_test, y_pred)\n",
        "\n",
        "print(f'Model Accuracy: {accuracy_RNN}')"
      ]
    },
    {
      "cell_type": "code",
      "execution_count": null,
      "metadata": {
        "colab": {
          "base_uri": "https://localhost:8080/",
          "height": 504
        },
        "id": "d_qWdtiTFrVM",
        "outputId": "ee3783ea-aa41-4433-9fd5-2c508b125999"
      },
      "outputs": [
        {
          "output_type": "stream",
          "name": "stdout",
          "text": [
            "281/281 [==============================] - 15s 53ms/step\n"
          ]
        },
        {
          "output_type": "display_data",
          "data": {
            "text/plain": [
              "<Figure size 700x500 with 2 Axes>"
            ],
            "image/png": "[encoded data removed]"
          },
          "metadata": {}
        }
      ],
      "source": [
        "#Confusion Matrix\n",
        "# Making predictions with the RNN model\n",
        "y_pred_RNN = (model.predict(X_test) > 0.5).astype(\"int32\")\n",
        "\n",
        "cm_RNN = confusion_matrix(y_test, y_pred_RNN)\n",
        "\n",
        "plt.figure(figsize=(7,5))\n",
        "sns.heatmap(cm_RNN, annot=True, fmt='d', cmap='Blues')\n",
        "plt.xlabel('Predicted')\n",
        "plt.ylabel('Actual')\n",
        "plt.title('Confusion Matrix for RNN')\n",
        "plt.show()"
      ]
    },
    {
      "cell_type": "markdown",
      "metadata": {
        "id": "M8CuE4hyFrVM"
      },
      "source": [
        "BERT and Transformers"
      ]
    },
    {
      "cell_type": "code",
      "execution_count": null,
      "metadata": {
        "colab": {
          "base_uri": "https://localhost:8080/"
        },
        "id": "BSrbp8a-FrVM",
        "outputId": "f73095b2-cb8b-431b-da48-78be647e3355"
      },
      "outputs": [
        {
          "output_type": "stream",
          "name": "stderr",
          "text": [
            "All PyTorch model weights were used when initializing TFBertForSequenceClassification.\n",
            "\n",
            "Some weights or buffers of the TF 2.0 model TFBertForSequenceClassification were not initialized from the PyTorch model and are newly initialized: ['classifier.weight', 'classifier.bias']\n",
            "You should probably TRAIN this model on a down-stream task to be able to use it for predictions and inference.\n",
            "Truncation was not explicitly activated but `max_length` is provided a specific value, please use `truncation=True` to explicitly truncate examples to max length. Defaulting to 'longest_first' truncation strategy. If you encode pairs of sequences (GLUE-style) with the tokenizer you can select this strategy more precisely by providing a specific strategy to `truncation`.\n"
          ]
        },
        {
          "output_type": "stream",
          "name": "stdout",
          "text": [
            "Epoch 1/10\n",
            "1123/1123 [==============================] - 489s 390ms/step - loss: 8.0100 - accuracy: 0.5253\n",
            "Epoch 2/10\n",
            "1123/1123 [==============================] - 434s 386ms/step - loss: 8.0135 - accuracy: 0.5255\n",
            "Epoch 3/10\n",
            "1123/1123 [==============================] - 433s 386ms/step - loss: 8.0135 - accuracy: 0.5255\n",
            "Epoch 4/10\n",
            "1123/1123 [==============================] - 434s 387ms/step - loss: 8.0135 - accuracy: 0.5255\n",
            "Epoch 5/10\n",
            "1123/1123 [==============================] - 434s 386ms/step - loss: 8.0135 - accuracy: 0.5255\n",
            "Epoch 6/10\n",
            "1123/1123 [==============================] - 434s 387ms/step - loss: 8.0135 - accuracy: 0.5255\n",
            "Epoch 7/10\n",
            "1123/1123 [==============================] - 434s 386ms/step - loss: 8.0135 - accuracy: 0.5255\n",
            "Epoch 8/10\n",
            "1123/1123 [==============================] - 434s 387ms/step - loss: 8.0135 - accuracy: 0.5255\n",
            "Epoch 9/10\n",
            "1123/1123 [==============================] - 434s 386ms/step - loss: 8.0135 - accuracy: 0.5255\n",
            "Epoch 10/10\n",
            "1123/1123 [==============================] - 434s 386ms/step - loss: 8.0135 - accuracy: 0.5255\n",
            "281/281 [==============================] - 42s 140ms/step\n",
            "Model Accuracy: 0.5140249332146037\n"
          ]
        }
      ],
      "source": [
        "from transformers import BertTokenizer, TFBertForSequenceClassification\n",
        "from sklearn.model_selection import train_test_split\n",
        "import tensorflow as tf\n",
        "\n",
        "# Loading the BERT tokenizer and model\n",
        "tokenizer = BertTokenizer.from_pretrained('bert-base-uncased')\n",
        "model = TFBertForSequenceClassification.from_pretrained('bert-base-uncased')\n",
        "\n",
        "# Tokenizing the text data\n",
        "input_ids = []\n",
        "attention_masks = []\n",
        "\n",
        "for text in dataset['text']:\n",
        "    encoded_dict = tokenizer.encode_plus(\n",
        "        text,\n",
        "        add_special_tokens = True,\n",
        "        max_length = 64,\n",
        "        pad_to_max_length = True,\n",
        "        return_attention_mask = True,\n",
        "        return_tensors = 'tf',\n",
        "    )\n",
        "\n",
        "    input_ids.append(encoded_dict['input_ids'])\n",
        "    attention_masks.append(encoded_dict['attention_mask'])\n",
        "\n",
        "input_ids = tf.concat(input_ids, axis=0)\n",
        "attention_masks = tf.concat(attention_masks, axis=0).numpy()  # Convert to numpy array\n",
        "labels = tf.convert_to_tensor(dataset['class'])\n",
        "\n",
        "# Compiling the model\n",
        "model.compile(optimizer=Adam(0.01), loss='binary_crossentropy', metrics=['accuracy'])\n",
        "\n",
        "# Splitting the data into train and test sets\n",
        "X_train, X_test, y_train, y_test = train_test_split(input_ids.numpy(), labels.numpy(), test_size=0.2, random_state=42)\n",
        "train_masks, test_masks = train_test_split(attention_masks, test_size=0.2, random_state=42)\n",
        "\n",
        "# Training the model\n",
        "model.fit([X_train, train_masks], y_train, epochs=10, batch_size=32)\n",
        "\n",
        "# Make predictions\n",
        "predictions = model.predict([X_test, test_masks])\n",
        "\n",
        "# Extract logits\n",
        "logits = predictions.logits\n",
        "\n",
        "# Get class predictions\n",
        "y_pred = tf.argmax(logits, axis=-1).numpy()\n",
        "\n",
        "# Accuracy\n",
        "accuracy_BERT = accuracy_score(y_test, y_pred)\n",
        "\n",
        "print(f'Model Accuracy: {accuracy_BERT}')"
      ]
    },
    {
      "cell_type": "code",
      "execution_count": null,
      "metadata": {
        "id": "LXAzLYL0FrVM",
        "colab": {
          "base_uri": "https://localhost:8080/",
          "height": 505
        },
        "outputId": "092d3d98-8a5b-4e70-eca5-3929bc38c208"
      },
      "outputs": [
        {
          "output_type": "stream",
          "name": "stdout",
          "text": [
            "281/281 [==============================] - 43s 152ms/step\n"
          ]
        },
        {
          "output_type": "display_data",
          "data": {
            "text/plain": [
              "<Figure size 700x500 with 2 Axes>"
            ],
            "image/png": "[encoded data removed]"
          },
          "metadata": {}
        }
      ],
      "source": [
        "# Making predictions with the BERT model\n",
        "predictions = model.predict([X_test, test_masks])\n",
        "\n",
        "# Extracting the logits from the predictions\n",
        "logits = predictions.logits\n",
        "\n",
        "# Applying softmax to convert logits to probabilities\n",
        "probabilities = tf.nn.softmax(logits, axis=-1)\n",
        "\n",
        "# Getting the most likely class\n",
        "y_pred_BERT = tf.argmax(probabilities, axis=1).numpy()\n",
        "\n",
        "cm_BERT = confusion_matrix(y_test, y_pred_BERT)\n",
        "\n",
        "plt.figure(figsize=(7,5))\n",
        "sns.heatmap(cm_BERT, annot=True, fmt='d', cmap='Blues')\n",
        "plt.xlabel('Predicted')\n",
        "plt.ylabel('Actual')\n",
        "plt.title('Confusion Matrix for BERT')\n",
        "plt.show()"
      ]
    },
    {
      "cell_type": "markdown",
      "source": [
        "All accuracy scores"
      ],
      "metadata": {
        "id": "iaJ05AsCOh5M"
      }
    },
    {
      "cell_type": "code",
      "source": [
        "print(accuracy_LR)\n",
        "print(accuracy_CNN)\n",
        "print(accuracy_RNN)\n",
        "print(accuracy_BERT)"
      ],
      "metadata": {
        "colab": {
          "base_uri": "https://localhost:8080/"
        },
        "id": "kAeFQWSVOlMp",
        "outputId": "3b480294-7d3e-4570-ec63-ee21da7af657"
      },
      "execution_count": null,
      "outputs": [
        {
          "output_type": "stream",
          "name": "stdout",
          "text": [
            "0.9871994657168299\n",
            "0.9992208370436332\n",
            "0.9981077471059662\n",
            "0.5140249332146037\n"
          ]
        }
      ]
    },
    {
      "cell_type": "code",
      "source": [
        "import matplotlib.pyplot as plt\n",
        "\n",
        "# Accuracy scores from the models\n",
        "accuracy_scores = [accuracy_LR, accuracy_CNN, accuracy_RNN, accuracy_BERT]\n",
        "\n",
        "# Model names\n",
        "models = ['Logistic Regression', 'CNN', 'RNN', 'BERT']\n",
        "\n",
        "# Create bar chart\n",
        "plt.bar(models, accuracy_scores, color=['blue', 'green', 'red', 'purple'])\n",
        "\n",
        "# Title and labels\n",
        "plt.title('Model Accuracy Comparison')\n",
        "plt.xlabel('Models')\n",
        "plt.ylabel('Accuracy')\n",
        "\n",
        "# Display the chart\n",
        "plt.show()"
      ],
      "metadata": {
        "colab": {
          "base_uri": "https://localhost:8080/",
          "height": 472
        },
        "id": "dcyrog6VPF06",
        "outputId": "994a056c-d79c-483e-afc7-e264bfaeaf46"
      },
      "execution_count": null,
      "outputs": [
        {
          "output_type": "display_data",
          "data": {
            "text/plain": [
              "<Figure size 640x480 with 1 Axes>"
            ],
            "image/png": "[encoded data removed]"
          },
          "metadata": {}
        }
      ]
    },
    {
      "cell_type": "markdown",
      "source": [
        "Experiment with a complex deep-learning algorithm to get the best results for this data"
      ],
      "metadata": {
        "id": "TJyIv0lKP1S5"
      }
    },
    {
      "cell_type": "code",
      "source": [
        "from keras.models import Sequential\n",
        "from keras.layers import Dense, Embedding, LSTM, Conv1D, GlobalMaxPooling1D\n",
        "from keras.optimizers import Adam\n",
        "from sklearn.metrics import accuracy_score\n",
        "from keras.preprocessing.text import Tokenizer\n",
        "from keras.preprocessing.sequence import pad_sequences\n",
        "from sklearn.model_selection import train_test_split\n",
        "\n",
        "# Initializing and fitting the tokenizer\n",
        "tokenizer = Tokenizer(num_words=5000)\n",
        "tokenizer.fit_on_texts(dataset['text'])\n",
        "\n",
        "# Using the tokenizer to transform the text messages in the dataset\n",
        "sequences = tokenizer.texts_to_sequences(dataset['text'])\n",
        "\n",
        "# Padding sequences to the same length\n",
        "padded_sequences = pad_sequences(sequences)\n",
        "\n",
        "#Splitting the data into train and test sets\n",
        "X_train, X_test, y_train, y_test = train_test_split(padded_sequences, dataset['class'], test_size=0.2, random_state=42)\n",
        "\n",
        "max_sequence_length = padded_sequences.shape[1]\n",
        "\n",
        "# Defining the model\n",
        "model = Sequential([\n",
        "    Embedding(input_dim=5000, output_dim=50, input_length=max_sequence_length),\n",
        "    Conv1D(filters=50, kernel_size=5, activation='relu'),\n",
        "    LSTM(50),\n",
        "    Dense(units=10, activation='relu'),\n",
        "    Dense(units=1, activation='sigmoid')\n",
        "])\n",
        "\n",
        "# Compiling the model\n",
        "model.compile(optimizer=Adam(0.01), loss='binary_crossentropy', metrics=['accuracy'])\n",
        "\n",
        "# Training the model\n",
        "model.fit(X_train, y_train, epochs=10, batch_size=32, validation_data=(X_test, y_test))\n",
        "\n",
        "# Making predictions\n",
        "y_pred = (model.predict(X_test) > 0.5).astype(\"int32\")\n",
        "\n",
        "# Accuracy\n",
        "accuracy_new_model = accuracy_score(y_test, y_pred)\n",
        "\n",
        "print(f'Model Accuracy: {accuracy_new_model}')"
      ],
      "metadata": {
        "colab": {
          "base_uri": "https://localhost:8080/"
        },
        "id": "6GI6mRw9P9hk",
        "outputId": "a4dc6fbc-2964-45e7-f2f5-55750a159583"
      },
      "execution_count": null,
      "outputs": [
        {
          "output_type": "stream",
          "name": "stdout",
          "text": [
            "Epoch 1/10\n",
            "1123/1123 [==============================] - 295s 247ms/step - loss: 0.1110 - accuracy: 0.9587 - val_loss: 0.0602 - val_accuracy: 0.9832\n",
            "Epoch 2/10\n",
            "1123/1123 [==============================] - 197s 176ms/step - loss: 0.0131 - accuracy: 0.9962 - val_loss: 0.0165 - val_accuracy: 0.9947\n",
            "Epoch 3/10\n",
            "1123/1123 [==============================] - 182s 162ms/step - loss: 0.0074 - accuracy: 0.9980 - val_loss: 0.0103 - val_accuracy: 0.9973\n",
            "Epoch 4/10\n",
            "1123/1123 [==============================] - 183s 163ms/step - loss: 0.0083 - accuracy: 0.9977 - val_loss: 0.0084 - val_accuracy: 0.9979\n",
            "Epoch 5/10\n",
            "1123/1123 [==============================] - 175s 156ms/step - loss: 0.0057 - accuracy: 0.9987 - val_loss: 0.0114 - val_accuracy: 0.9976\n",
            "Epoch 6/10\n",
            "1123/1123 [==============================] - 175s 156ms/step - loss: 0.0031 - accuracy: 0.9994 - val_loss: 0.0099 - val_accuracy: 0.9973\n",
            "Epoch 7/10\n",
            "1123/1123 [==============================] - 174s 155ms/step - loss: 0.0056 - accuracy: 0.9986 - val_loss: 0.0130 - val_accuracy: 0.9968\n",
            "Epoch 8/10\n",
            "1123/1123 [==============================] - 176s 156ms/step - loss: 0.0044 - accuracy: 0.9989 - val_loss: 0.0139 - val_accuracy: 0.9978\n",
            "Epoch 9/10\n",
            "1123/1123 [==============================] - 173s 154ms/step - loss: 0.0031 - accuracy: 0.9993 - val_loss: 0.0103 - val_accuracy: 0.9981\n",
            "Epoch 10/10\n",
            " 378/1123 [=========>....................] - ETA: 1:40 - loss: 5.7345e-04 - accuracy: 0.9999"
          ]
        }
      ]
    }
  ],
  "metadata": {
    "kernelspec": {
      "display_name": "Python 3",
      "name": "python3"
    },
    "language_info": {
      "codemirror_mode": {
        "name": "ipython",
        "version": 3
      },
      "file_extension": ".py",
      "mimetype": "text/x-python",
      "name": "python",
      "nbconvert_exporter": "python",
      "pygments_lexer": "ipython3",
      "version": "3.10.4"
    },
    "orig_nbformat": 4,
    "colab": {
      "provenance": [],
      "gpuType": "T4"
    },
    "accelerator": "GPU"
  },
  "nbformat": 4,
  "nbformat_minor": 0
}